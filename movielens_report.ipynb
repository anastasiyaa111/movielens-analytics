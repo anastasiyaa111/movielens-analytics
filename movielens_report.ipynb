{
 "cells": [
  {
   "cell_type": "code",
   "execution_count": 1,
   "id": "0ae99b04",
   "metadata": {},
   "outputs": [
    {
     "name": "stdout",
     "output_type": "stream",
     "text": [
      "22.5 ms ± 2.31 ms per loop (mean ± std. dev. of 7 runs, 10 loops each)\n",
      "2.14 ms ± 347 μs per loop (mean ± std. dev. of 7 runs, 100 loops each)\n",
      "230 μs ± 19.2 μs per loop (mean ± std. dev. of 7 runs, 1,000 loops each)\n",
      "13.4 ms ± 446 μs per loop (mean ± std. dev. of 7 runs, 100 loops each)\n"
     ]
    }
   ],
   "source": [
    "from movielens_analysis import Movies, Tags, Links, Ratings\n",
    "\n",
    "# initialize all classes\n",
    "%timeit Movies(\"../datasets/movies.csv\")\n",
    "movies = Movies(\"../datasets/movies.csv\")\n",
    "%timeit Tags(\"../datasets/tags.csv\")\n",
    "tags = Tags(\"../datasets/tags.csv\")\n",
    "%timeit Links(\"../datasets/links.csv\",50)\n",
    "links = Links(\"../datasets/links.csv\",50)\n",
    "%timeit Ratings(\"../datasets/ratings.csv\", \"../datasets/movies.csv\")\n",
    "rating = Ratings(\"../datasets/ratings.csv\", \"../datasets/movies.csv\")\n"
   ]
  },
  {
   "cell_type": "markdown",
   "id": "f5487726",
   "metadata": {},
   "source": [
    "# MOVIES"
   ]
  },
  {
   "cell_type": "code",
   "execution_count": 2,
   "id": "5691a96d",
   "metadata": {},
   "outputs": [
    {
     "name": "stdout",
     "output_type": "stream",
     "text": [
      "67.4 ns ± 2.65 ns per loop (mean ± std. dev. of 7 runs, 10,000,000 loops each)\n",
      "Total in database 9742 movies\n"
     ]
    }
   ],
   "source": [
    "%timeit len(movies.movies)\n",
    "print(f'Total in database {len(movies.movies)} movies')"
   ]
  },
  {
   "cell_type": "markdown",
   "id": "d5880fc9",
   "metadata": {},
   "source": [
    "Let's see which years were of key importance."
   ]
  },
  {
   "cell_type": "code",
   "execution_count": 3,
   "id": "1a7043e7",
   "metadata": {},
   "outputs": [
    {
     "name": "stdout",
     "output_type": "stream",
     "text": [
      "17.5 ms ± 714 μs per loop (mean ± std. dev. of 7 runs, 100 loops each)\n",
      "{2002: 311, 2006: 295, 2001: 294, 2007: 284, 2000: 283, 2009: 282, 2003: 279, 2004: 279, 2014: 278, 1996: 276, 2015: 274, 2005: 273, 2008: 269, 1999: 263, 1997: 260, 1995: 259, 1998: 258, 2011: 254, 2010: 247, 2013: 239, 1994: 237, 2012: 233, 2016: 218, 1993: 198, 1992: 167, 1988: 165, 1987: 153, 1990: 147, 1991: 147, 2017: 147, 1989: 142, 1986: 139, 1985: 126, 1984: 101, 1981: 92, 1980: 89, 1982: 87, 1983: 83, 1979: 69, 1977: 63, 1973: 59, 1978: 59, 1965: 47, 1971: 47, 1974: 45, 1976: 44, 1964: 43, 1967: 42, 1968: 42, 1975: 42, 1966: 42, 2018: 41, 1962: 40, 1972: 39, 1963: 39, 1959: 37, 1960: 37, 1955: 36, 1969: 35, 1961: 34, 1970: 33, 1957: 33, 1958: 31, 1953: 30, 1956: 30, 1940: 25, 1949: 25, 1954: 23, 1942: 23, 1939: 23, 1946: 23, 1951: 22, 1950: 21, 1947: 20, 1948: 20, 1941: 18, 1936: 18, 1945: 17, 1937: 16, 1952: 16, 1944: 16, 1938: 15, 1931: 14, 1935: 13, 1933: 12, 1934: 11, 1943: 10, 1932: 9, 1927: 7, 1930: 5, 1926: 5, 1924: 5, 1929: 4, 1928: 4, 1925: 4, 1923: 4, 1916: 4, 1920: 2, 1922: 1, 1919: 1, 1921: 1, 1915: 1, 1917: 1, 1902: 1, 1903: 1, 1908: 1}\n",
      "Let's find the year when the most films were released:\n",
      "15.7 ms ± 998 μs per loop (mean ± std. dev. of 7 runs, 100 loops each)\n",
      "2002: 311 films\n",
      "2006: 295 films\n",
      "2001: 294 films\n",
      "2007: 284 films\n",
      "2000: 283 films\n",
      "Why is 2002 year have the most films been released?\n"
     ]
    }
   ],
   "source": [
    "%timeit movies.dist_by_release()\n",
    "years=movies.dist_by_release()\n",
    "print(years)\n",
    "print(f\"Let's find the year when the most films were released:\")\n",
    "%timeit for year, count in list(movies.dist_by_release().items())[:5]: pass\n",
    "for year, count in list(years.items())[:5]:\n",
    "    print(f\"{year}: {count} films\")\n",
    "max_year=next(iter(years))\n",
    "print(f\"Why is {max_year} year have the most films been released?\")"
   ]
  },
  {
   "cell_type": "code",
   "execution_count": 4,
   "id": "bb181fd5",
   "metadata": {},
   "outputs": [
    {
     "name": "stdout",
     "output_type": "stream",
     "text": [
      "Let's take a look at 10 films that were released in 2002.\n",
      "13.2 ms ± 362 μs per loop (mean ± std. dev. of 7 runs, 100 loops each)\n",
      "\"11'09\"\"01 - September 11 (2002)\"\n",
      "\"Adventures of Pluto Nash, The (2002)\"\n",
      "\"Anarchist Cookbook, The (2002)\"\n",
      "\"Bang, Bang, You're Dead (2002)\"\n",
      "\"Banger Sisters, The (2002)\"\n",
      "\"Bourne Identity, The (2002)\"\n",
      "\"Cat Returns, The (Neko no ongaeshi) (2002)\"\n",
      "\"Cat's Meow, The (2002)\"\n",
      "\"Century of the Self, The (2002)\"\n",
      "\"Crime of Father Amaro, The (Crimen del padre Amaro, El) (2002)\"\n"
     ]
    }
   ],
   "source": [
    "print(f\"Let's take a look at 10 films that were released in 2002.\")\n",
    "%timeit movies.get_movies_by_year(2002)[:10]\n",
    "movies_in_most_year=movies.get_movies_by_year(2002)[:10]\n",
    "print(*movies_in_most_year, sep=\"\\n\")"
   ]
  },
  {
   "cell_type": "markdown",
   "id": "3198ea64",
   "metadata": {},
   "source": [
    "### And now, let's analyze the genres of films"
   ]
  },
  {
   "cell_type": "code",
   "execution_count": 5,
   "id": "d25897a6",
   "metadata": {},
   "outputs": [
    {
     "name": "stdout",
     "output_type": "stream",
     "text": [
      "6.51 ms ± 286 μs per loop (mean ± std. dev. of 7 runs, 100 loops each)\n",
      "6.62 ms ± 419 μs per loop (mean ± std. dev. of 7 runs, 100 loops each)\n",
      "Let's look at the distribution of films by genre:\n",
      "Drama: 4361 films\n",
      "Comedy: 3756 films\n",
      "Thriller: 1894 films\n",
      "Action: 1828 films\n",
      "Romance: 1596 films\n",
      "Adventure: 1263 films\n",
      "Crime: 1199 films\n",
      "Sci-Fi: 980 films\n",
      "Horror: 978 films\n",
      "Fantasy: 779 films\n",
      "Children: 664 films\n",
      "Animation: 611 films\n",
      "Mystery: 573 films\n",
      "Documentary: 440 films\n",
      "War: 382 films\n",
      "Musical: 334 films\n",
      "Western: 167 films\n",
      "IMAX: 158 films\n",
      "Film-Noir: 87 films\n"
     ]
    }
   ],
   "source": [
    "%timeit movies.dist_by_genres()\n",
    "genres_dist = movies.dist_by_genres()\n",
    "%timeit for genre, count in movies.dist_by_genres().items(): pass\n",
    "print(\"Let's look at the distribution of films by genre:\")\n",
    "for genre, count in genres_dist.items():\n",
    "    print(f\"{genre}: {count} films\")"
   ]
  },
  {
   "cell_type": "markdown",
   "id": "d75f99f7",
   "metadata": {},
   "source": [
    "The most popular genre is drama. As many as 4,361 films were released that included this genre!"
   ]
  },
  {
   "cell_type": "code",
   "execution_count": 6,
   "id": "d325994a",
   "metadata": {},
   "outputs": [
    {
     "name": "stdout",
     "output_type": "stream",
     "text": [
      "5.05 ms ± 513 μs per loop (mean ± std. dev. of 7 runs, 100 loops each)\n",
      "Let's look at the top 10 films in which the largest number of genres were indicated:\n",
      "Rubber (2010): 10 geners\n",
      "Patlabor: The Movie (Kidô keisatsu patorebâ: The Movie) (1989): 8 geners\n",
      "Mulan (1998): 7 geners\n",
      "Who Framed Roger Rabbit? (1988): 7 geners\n",
      "Osmosis Jones (2001): 7 geners\n",
      "Interstate 60 (2002): 7 geners\n",
      "Robots (2005): 7 geners\n",
      "Pulse (2006): 7 geners\n",
      "Aqua Teen Hunger Force Colon Movie Film for Theaters (2007): 7 geners\n",
      "Enchanted (2007): 7 geners\n"
     ]
    }
   ],
   "source": [
    "%timeit movies.most_genres(10)\n",
    "multi_genre_movies = movies.most_genres(10)\n",
    "print(f\"Let's look at the top 10 films in which the largest number of genres were indicated:\")\n",
    "for title, count in multi_genre_movies.items():\n",
    "    print(f\"{title}: {count} geners\")"
   ]
  },
  {
   "cell_type": "markdown",
   "id": "b28ef2d8",
   "metadata": {},
   "source": [
    "This is the movie \"Rubber\" from 2010! It is not surprising that it was included in the list.\n",
    "![..\\datasets\\kinopoisk.jpg](..\\datasets\\kinopoisk.jpg)\n",
    "This movie has even more genres in kinopoisk!"
   ]
  },
  {
   "cell_type": "code",
   "execution_count": 7,
   "id": "14ceb9a2",
   "metadata": {},
   "outputs": [
    {
     "name": "stdout",
     "output_type": "stream",
     "text": [
      "Let's see how many genres per movie are listed on average.\n",
      "8.03 ms ± 385 μs per loop (mean ± std. dev. of 7 runs, 100 loops each)\n",
      "Avarage amount  genres per movie: 15.90\n"
     ]
    }
   ],
   "source": [
    "print(f\"Let's see how many genres per movie are listed on average.\")\n",
    "%timeit sum(len([g for g in m['genres'] if g != '(no genres listed)']) for m in movies.movies) / len(movies.movies)\n",
    "avg_geners_per_movie=sum(len([g for g in m['genres'] if g != '(no genres listed)']) for m in movies.movies) / len(movies.movies)\n",
    "print(f\"Avarage amount  genres per movie: {avg_geners_per_movie:.2f}\")"
   ]
  },
  {
   "cell_type": "markdown",
   "id": "10a69ad8",
   "metadata": {},
   "source": [
    "# Tags"
   ]
  },
  {
   "cell_type": "code",
   "execution_count": 8,
   "id": "0209f089",
   "metadata": {},
   "outputs": [
    {
     "name": "stdout",
     "output_type": "stream",
     "text": [
      "378 μs ± 30.1 μs per loop (mean ± std. dev. of 7 runs, 1,000 loops each)\n",
      "Top 10 tags with the most words:\n",
      "Something for everyone in this one... saw it without and plan on seeing it with kids! : 16 words\n",
      "the catholic church is the most corrupt organization in history : 10 words\n",
      "Oscar (Best Music - Original Score) : 6 words\n",
      "based on a true story : 5 words\n",
      "Everything you want is here : 5 words\n",
      "lord of the rings : 4 words\n",
      "seen more than once : 4 words\n",
      "based on a play : 4 words\n",
      "jay and silent bob : 4 words\n",
      "political right versus left : 4 words\n"
     ]
    }
   ],
   "source": [
    "%timeit top_tags_result_timed = tags.most_words(10)\n",
    "top_tags = tags.most_words(10)\n",
    "print(f\"Top 10 tags with the most words:\")\n",
    "for tag, word_count in top_tags.items():\n",
    "    print(f\"{tag} : {word_count} words\")"
   ]
  },
  {
   "cell_type": "markdown",
   "id": "f6a688b3",
   "metadata": {},
   "source": [
    "Wow, some user wrote a tag with as many as 10 words!"
   ]
  },
  {
   "cell_type": "markdown",
   "id": "8ec3d16e",
   "metadata": {},
   "source": [
    "### Now let's look at the longest tag relative to characters, not words."
   ]
  },
  {
   "cell_type": "code",
   "execution_count": 9,
   "id": "6759024f",
   "metadata": {},
   "outputs": [
    {
     "name": "stdout",
     "output_type": "stream",
     "text": [
      "254 μs ± 11.8 μs per loop (mean ± std. dev. of 7 runs, 1,000 loops each)\n",
      "Top 10 tags with the most characters:\n",
      "Something for everyone in this one... saw it without and plan on seeing it with kids! : 85 слов\n",
      "the catholic church is the most corrupt organization in history : 63 слов\n",
      "audience intelligence underestimated : 36 слов\n",
      "Oscar (Best Music - Original Score) : 35 слов\n",
      "assassin-in-training (scene) : 28 слов\n",
      "Oscar (Best Cinematography) : 27 слов\n",
      "political right versus left : 27 слов\n",
      "Everything you want is here : 27 слов\n",
      "representation of children : 26 слов\n",
      "artificial intelligence : 23 слов\n"
     ]
    }
   ],
   "source": [
    "%timeit top_tags_result_timed = tags.longest(10)\n",
    "top_tags = tags.longest(10)\n",
    "print(f\"Top 10 tags with the most characters:\")\n",
    "for tag, word_count in top_tags.items():\n",
    "    print(f\"{tag} : {word_count} слов\")"
   ]
  },
  {
   "cell_type": "markdown",
   "id": "d10ab01a",
   "metadata": {},
   "source": [
    "Note that several of them match, but not all of them, we need to find their intersection."
   ]
  },
  {
   "cell_type": "code",
   "execution_count": 10,
   "id": "01016e61",
   "metadata": {},
   "outputs": [
    {
     "name": "stdout",
     "output_type": "stream",
     "text": [
      "473 μs ± 30.4 μs per loop (mean ± std. dev. of 7 runs, 1,000 loops each)\n",
      "Intersection of the top 10 tags with the most characters and words:\n",
      "Everything you want is here\n",
      "Oscar (Best Music - Original Score)\n",
      "Something for everyone in this one... saw it without and plan on seeing it with kids!\n",
      "the catholic church is the most corrupt organization in history\n"
     ]
    }
   ],
   "source": [
    "%timeit top_tags_result_timed = tags.most_words_and_longest(10)\n",
    "top_tags = tags.most_words_and_longest(10)\n",
    "print(f\"Intersection of the top 10 tags with the most characters and words:\")\n",
    "print(*top_tags, sep='\\n')"
   ]
  },
  {
   "cell_type": "markdown",
   "id": "ec74ffa8",
   "metadata": {},
   "source": [
    "### And now it's time to find the most popular tags."
   ]
  },
  {
   "cell_type": "code",
   "execution_count": 11,
   "id": "8cbee648",
   "metadata": {},
   "outputs": [
    {
     "name": "stdout",
     "output_type": "stream",
     "text": [
      "169 μs ± 2.56 μs per loop (mean ± std. dev. of 7 runs, 10,000 loops each)\n",
      "Top 10 most popular tags:\n",
      "funny : 15 counts\n",
      "sci-fi : 14 counts\n",
      "twist ending : 12 counts\n",
      "dark comedy : 12 counts\n",
      "atmospheric : 10 counts\n",
      "superhero : 10 counts\n",
      "comedy : 10 counts\n",
      "action : 10 counts\n",
      "suspense : 10 counts\n",
      "Leonardo DiCaprio : 9 counts\n"
     ]
    }
   ],
   "source": [
    "%timeit top_popular_tags_result_timed = tags.most_popular(10)\n",
    "top_popular_tags = tags.most_popular(10)\n",
    "print(f\"Top 10 most popular tags:\")\n",
    "for tag, count in top_popular_tags.items():\n",
    "    print(f\"{tag} : {count} counts\")"
   ]
  },
  {
   "cell_type": "markdown",
   "id": "20ca0c73",
   "metadata": {},
   "source": [
    "Wow, the most popular tag is \"funny\". We need to find films that have this tag."
   ]
  },
  {
   "cell_type": "code",
   "execution_count": 12,
   "id": "b49391d8",
   "metadata": {},
   "outputs": [
    {
     "name": "stdout",
     "output_type": "stream",
     "text": [
      "62.7 μs ± 1.01 μs per loop (mean ± std. dev. of 7 runs, 10,000 loops each)\n",
      "1.06 ms ± 32.1 μs per loop (mean ± std. dev. of 7 runs, 1,000 loops each)\n",
      "235 ns ± 10.6 ns per loop (mean ± std. dev. of 7 runs, 1,000,000 loops each)\n",
      "Movies with the 'funny' tag:\n",
      "\"Croods, The (2013)\"\n",
      "Anchorman 2: The Legend Continues (2013)\n",
      "Big Hero 6 (2014)\n",
      "The Interview (2014)\n",
      "The DUFF (2015)\n",
      "Jumanji: Welcome to the Jungle (2017)\n",
      "Game Night (2018)\n",
      "Home Alone 2: Lost in New York (1992)\n",
      "Toy Story 2 (1999)\n",
      "Clueless (1995)\n",
      "Step Brothers (2008)\n",
      "\"Brothers Bloom, The (2008)\"\n",
      "Zombieland (2009)\n",
      "Friends with Benefits (2011)\n",
      "Django Unchained (2012)\n"
     ]
    }
   ],
   "source": [
    "%timeit tags.movie_by_tag('funny')\n",
    "%timeit {movie['movieId']: movie['title'] for movie in movies.movies}\n",
    "movie_dict = {movie['movieId']: movie['title'] for movie in movies.movies}\n",
    "movie_id=tags.movie_by_tag('funny')\n",
    "%timeit for movie_ids in movie_id: pass\n",
    "print(\"Movies with the 'funny' tag:\")\n",
    "for movie_ids in movie_id:\n",
    "    title = movie_dict.get(movie_ids, \"Unknown movie\")\n",
    "    print(f\"{title}\")"
   ]
  },
  {
   "cell_type": "markdown",
   "id": "691cf352",
   "metadata": {},
   "source": [
    "There are many popular films among these films, so we can say that people like funny films."
   ]
  },
  {
   "cell_type": "markdown",
   "id": "96383f9f",
   "metadata": {},
   "source": [
    "### How about looking at the word search tags?"
   ]
  },
  {
   "cell_type": "code",
   "execution_count": 13,
   "id": "c7b4c8bf",
   "metadata": {},
   "outputs": [
    {
     "name": "stdout",
     "output_type": "stream",
     "text": [
      "67.4 μs ± 4.16 μs per loop (mean ± std. dev. of 7 runs, 10,000 loops each)\n",
      "94.3 ns ± 3.76 ns per loop (mean ± std. dev. of 7 runs, 10,000,000 loops each)\n",
      "Tags containing the word 'Oscar':\n",
      "Oscar (Best Actress)\n",
      "Oscar (Best Cinematography)\n",
      "Oscar (Best Music - Original Score)\n"
     ]
    }
   ],
   "source": [
    "search_word = \"Oscar\"\n",
    "%timeit matching_tags_result_timed = tags.tags_with(search_word)\n",
    "matching_tags = tags.tags_with(search_word)\n",
    "%timeit for tag in matching_tags: pass\n",
    "print(f\"Tags containing the word '{search_word}':\")\n",
    "for tag in matching_tags:\n",
    "    print(f\"{tag}\")"
   ]
  },
  {
   "cell_type": "markdown",
   "id": "9b6d4918",
   "metadata": {},
   "source": [
    "### And now it's time to find the most popular tags."
   ]
  },
  {
   "cell_type": "code",
   "execution_count": 14,
   "id": "6c476746",
   "metadata": {},
   "outputs": [
    {
     "name": "stdout",
     "output_type": "stream",
     "text": [
      "166 μs ± 2.1 μs per loop (mean ± std. dev. of 7 runs, 10,000 loops each)\n",
      "Top 10 most popular tags:\n",
      "funny : 15 counts\n",
      "sci-fi : 14 counts\n",
      "twist ending : 12 counts\n",
      "dark comedy : 12 counts\n",
      "atmospheric : 10 counts\n",
      "superhero : 10 counts\n",
      "comedy : 10 counts\n",
      "action : 10 counts\n",
      "suspense : 10 counts\n",
      "Leonardo DiCaprio : 9 counts\n"
     ]
    }
   ],
   "source": [
    "%timeit top_popular_tags_result_timed = tags.most_popular(10)\n",
    "top_popular_tags = tags.most_popular(10)\n",
    "print(f\"Top 10 most popular tags:\")\n",
    "for tag, count in top_popular_tags.items():\n",
    "    print(f\"{tag} : {count} counts\")"
   ]
  },
  {
   "cell_type": "markdown",
   "id": "c7cefb31",
   "metadata": {},
   "source": [
    "# LINKS"
   ]
  },
  {
   "cell_type": "markdown",
   "id": "32533f1a",
   "metadata": {},
   "source": [
    "Class instanciation: I modified constructor a bit, so by default it uses first 1000 ids as task authors suggets, but u can use second arg, which I strongly recommend to do, cause fetchin 1000 takes like 25 mins. So lets stick with 50"
   ]
  },
  {
   "cell_type": "code",
   "execution_count": 15,
   "id": "9853276f",
   "metadata": {},
   "outputs": [
    {
     "name": "stdout",
     "output_type": "stream",
     "text": [
      "81.2 ns ± 3.2 ns per loop (mean ± std. dev. of 7 runs, 10,000,000 loops each)\n",
      "1.52 μs ± 123 ns per loop (mean ± std. dev. of 7 runs, 1,000,000 loops each)\n",
      "Let's look at the ID of the films that we will be loking\n",
      "1 : 0114709\n",
      "2 : 0113497\n",
      "3 : 0113228\n",
      "4 : 0114885\n",
      "5 : 0113041\n",
      "6 : 0113277\n",
      "7 : 0114319\n",
      "8 : 0112302\n",
      "9 : 0114576\n",
      "10 : 0113189\n",
      "11 : 0112346\n",
      "12 : 0112896\n",
      "13 : 0112453\n",
      "14 : 0113987\n",
      "15 : 0112760\n",
      "16 : 0112641\n",
      "17 : 0114388\n",
      "18 : 0113101\n",
      "19 : 0112281\n",
      "20 : 0113845\n",
      "21 : 0113161\n",
      "22 : 0112722\n",
      "23 : 0112401\n",
      "24 : 0114168\n",
      "25 : 0113627\n",
      "26 : 0114057\n",
      "27 : 0114011\n",
      "28 : 0114117\n",
      "29 : 0112682\n",
      "30 : 0115012\n",
      "31 : 0112792\n",
      "32 : 0114746\n",
      "34 : 0112431\n",
      "36 : 0112818\n",
      "38 : 0113442\n",
      "39 : 0112697\n",
      "40 : 0112749\n",
      "41 : 0114279\n",
      "42 : 0112819\n",
      "43 : 0114272\n",
      "44 : 0113855\n",
      "45 : 0114681\n",
      "46 : 0113347\n",
      "47 : 0114369\n",
      "48 : 0114148\n",
      "49 : 0114916\n",
      "50 : 0114814\n",
      "52 : 0113819\n",
      "53 : 0110299\n",
      "54 : 0112499\n"
     ]
    }
   ],
   "source": [
    "%timeit links.get_ids_dict()\n",
    "links_ids=links.get_ids_dict()\n",
    "%timeit for num,id in links_ids.items(): pass\n",
    "print(\"Let's look at the ID of the films that we will be loking\")\n",
    "for num,id in links_ids.items():\n",
    "    print(f\"{num} : {id}\")"
   ]
  },
  {
   "cell_type": "markdown",
   "id": "0152c6f5",
   "metadata": {},
   "source": [
    "instance.get_imdb(list_of_movies, list_of_fields) returns required parsed data, but first call(from any place in code) fetches all pages for our id pool and parses em for fields demanded for our methods to minimalize net usage and delay, savin in self right after. But here we have to wait mentioned fetchin time, for 50 ids its aprox 1 min"
   ]
  },
  {
   "cell_type": "code",
   "execution_count": 16,
   "id": "21fe1d75",
   "metadata": {},
   "outputs": [
    {
     "name": "stdout",
     "output_type": "stream",
     "text": [
      "The slowest run took 29.00 times longer than the fastest. This could mean that an intermediate result is being cached.\n",
      "3.77 μs ± 6.76 μs per loop (mean ± std. dev. of 7 runs, 1 loop each)\n"
     ]
    },
    {
     "data": {
      "text/plain": [
       "[]"
      ]
     },
     "execution_count": 16,
     "metadata": {},
     "output_type": "execute_result"
    }
   ],
   "source": [
    "%timeit links.get_imdb([],[])\n",
    "links.get_imdb([],[])"
   ]
  },
  {
   "cell_type": "markdown",
   "id": "e298c8ea",
   "metadata": {},
   "source": [
    "Time passed and now we can get any info we need truly fast, lets start with top 7 longest films, simply call longest(10)"
   ]
  },
  {
   "cell_type": "code",
   "execution_count": 17,
   "id": "cfb023e5",
   "metadata": {},
   "outputs": [
    {
     "name": "stdout",
     "output_type": "stream",
     "text": [
      "65.7 μs ± 3.9 μs per loop (mean ± std. dev. of 7 runs, 10,000 loops each)\n",
      "491 ns ± 66.8 ns per loop (mean ± std. dev. of 7 runs, 1,000,000 loops each)\n",
      "Top-10 of longest films for our piece of data is:\n",
      "Nixon : 192 minutes\n",
      "Casino : 178 minutes\n",
      "Heat : 170 minutes\n",
      "Sense and Sensibility : 136 minutes\n",
      "Assassins : 133 minutes\n",
      "GoldenEye : 130 minutes\n",
      "12 Monkeys : 129 minutes\n",
      "Se7en : 127 minutes\n",
      "Sabrina : 127 minutes\n",
      "Cutthroat Island : 124 minutes\n"
     ]
    }
   ],
   "source": [
    "%timeit links.longest(10)\n",
    "longest_movies=links.longest(10)\n",
    "%timeit for name, minutes in longest_movies.items(): pass\n",
    "print(f'Top-10 of longest films for our piece of data is:')\n",
    "for name, minutes in longest_movies.items():\n",
    "    print(f\"{name} : {minutes} minutes\")"
   ]
  },
  {
   "cell_type": "markdown",
   "id": "84d2d0f3",
   "metadata": {},
   "source": [
    "Now let's find the most expensive movies."
   ]
  },
  {
   "cell_type": "code",
   "execution_count": 18,
   "id": "bf54c38d",
   "metadata": {},
   "outputs": [
    {
     "name": "stdout",
     "output_type": "stream",
     "text": [
      "48.7 μs ± 3.5 μs per loop (mean ± std. dev. of 7 runs, 10,000 loops each)\n",
      "395 ns ± 17.3 ns per loop (mean ± std. dev. of 7 runs, 1,000,000 loops each)\n",
      "Top-10 of most expensive films for our piece of data is:\n",
      "Cutthroat Island : 98000000.0 $\n",
      "Money Train : 68000000.0 $\n",
      "Jumanji : 65000000.0 $\n",
      "The American President : 62000000.0 $\n",
      "GoldenEye : 60000000.0 $\n",
      "Heat : 60000000.0 $\n",
      "Sabrina : 58000000.0 $\n",
      "Pocahontas : 55000000.0 $\n",
      "Casino : 52000000.0 $\n",
      "Assassins : 50000000.0 $\n"
     ]
    }
   ],
   "source": [
    "%timeit links.most_expensive(10)\n",
    "most_expensive_movies=links.most_expensive(10)\n",
    "%timeit for name, minutes in most_expensive_movies.items(): pass\n",
    "print(f'Top-10 of most expensive films for our piece of data is:')\n",
    "for name, cost in most_expensive_movies.items():\n",
    "    print(f\"{name} : {cost} $\")"
   ]
  },
  {
   "cell_type": "markdown",
   "id": "dd6f599e",
   "metadata": {},
   "source": [
    "Ok, what about most profitable movies?"
   ]
  },
  {
   "cell_type": "code",
   "execution_count": 19,
   "id": "09465b80",
   "metadata": {},
   "outputs": [
    {
     "name": "stdout",
     "output_type": "stream",
     "text": [
      "59.7 μs ± 3.01 μs per loop (mean ± std. dev. of 7 runs, 10,000 loops each)\n",
      "403 ns ± 13.8 ns per loop (mean ± std. dev. of 7 runs, 1,000,000 loops each)\n",
      "Top-10 of most expensive films for our piece of data is:\n",
      "Toy Story : 364436586.0 $\n",
      "Se7en : 295983304.0 $\n",
      "GoldenEye : 292194034.0 $\n",
      "Pocahontas : 291079773.0 $\n",
      "Babe : 224134910.0 $\n",
      "Jumanji : 197821940.0 $\n",
      "Ace Ventura: When Nature Calls : 182385533.0 $\n",
      "Dangerous Minds : 156519401.0 $\n",
      "12 Monkeys : 139839459.0 $\n",
      "Heat : 127436818.0 $\n"
     ]
    }
   ],
   "source": [
    "%timeit links.most_profitable(10)\n",
    "profitable_movies=links.most_profitable(10)\n",
    "%timeit for name, minutes in profitable_movies.items(): pass\n",
    "print(f'Top-10 of most expensive films for our piece of data is:')\n",
    "for name, cost in profitable_movies.items():\n",
    "    print(f\"{name} : {cost} $\")"
   ]
  },
  {
   "cell_type": "markdown",
   "id": "622fe427",
   "metadata": {},
   "source": [
    "Cool, but are there any intersections between them?"
   ]
  },
  {
   "cell_type": "code",
   "execution_count": 20,
   "id": "c39bb110",
   "metadata": {},
   "outputs": [
    {
     "name": "stdout",
     "output_type": "stream",
     "text": [
      "GoldenEye\n",
      "Heat\n",
      "Jumanji\n",
      "Pocahontas\n"
     ]
    }
   ],
   "source": [
    "print(*set(most_expensive_movies) & set(profitable_movies), sep='\\n')"
   ]
  },
  {
   "cell_type": "markdown",
   "id": "d41a6931",
   "metadata": {},
   "source": [
    "Now we know that only 3 expensive films have become the most profitable"
   ]
  },
  {
   "cell_type": "markdown",
   "id": "524f484e",
   "metadata": {},
   "source": [
    "What about top directors?"
   ]
  },
  {
   "cell_type": "code",
   "execution_count": 21,
   "id": "ec580759",
   "metadata": {},
   "outputs": [
    {
     "name": "stdout",
     "output_type": "stream",
     "text": [
      "52.3 μs ± 6.04 μs per loop (mean ± std. dev. of 7 runs, 10,000 loops each)\n",
      "400 ns ± 13.2 ns per loop (mean ± std. dev. of 7 runs, 1,000,000 loops each)\n",
      "Top-10 of top directors for our piece of data is:\n",
      "Holly Goldberg Sloan : 1 \n",
      "Gianni Amelio : 1 \n",
      "Woody Allen : 1 \n",
      "Bryan Singer : 1 \n",
      "Patricia Rozema : 1 \n",
      "Mike Gabriel : 1 \n",
      "David Fincher : 1 \n",
      "Jocelyn Moorhouse : 1 \n",
      "Gus Van Sant : 1 \n",
      "Paul W.S. Anderson : 1 \n"
     ]
    }
   ],
   "source": [
    "%timeit links.top_directors(10)\n",
    "top_directors=links.top_directors(10)\n",
    "%timeit for name, minutes in top_directors.items(): pass\n",
    "print(f'Top-10 of top directors for our piece of data is:')\n",
    "for director, num in top_directors.items():\n",
    "    print(f\"{director} : {num} \")"
   ]
  },
  {
   "cell_type": "markdown",
   "id": "e9389e44",
   "metadata": {},
   "source": [
    "lets see top cost per minute for movies"
   ]
  },
  {
   "cell_type": "code",
   "execution_count": 22,
   "id": "36c706eb",
   "metadata": {},
   "outputs": [
    {
     "name": "stdout",
     "output_type": "stream",
     "text": [
      "81.4 μs ± 3.01 μs per loop (mean ± std. dev. of 7 runs, 10,000 loops each)\n",
      "389 ns ± 9.65 ns per loop (mean ± std. dev. of 7 runs, 1,000,000 loops each)\n",
      "Top-10 of top directors for our piece of data is:\n",
      "Cutthroat Island : 790322.58 $\n",
      "Pocahontas : 679012.35 $\n",
      "Jumanji : 625000.0 $\n",
      "Money Train : 618181.82 $\n",
      "The American President : 543859.65 $\n",
      "GoldenEye : 461538.46 $\n",
      "Sabrina : 456692.91 $\n",
      "Assassins : 375939.85 $\n",
      "Toy Story : 370370.37 $\n",
      "Heat : 352941.18 $\n"
     ]
    }
   ],
   "source": [
    "%timeit links.top_cost_per_minute(10)\n",
    "top_cost_per_minute=links.top_cost_per_minute(10)\n",
    "%timeit for name, minutes in top_cost_per_minute.items(): pass\n",
    "print(f'Top-10 of top directors for our piece of data is:')\n",
    "for name, cost in top_cost_per_minute.items():\n",
    "    print(f\"{name} : {cost} $\")"
   ]
  },
  {
   "cell_type": "markdown",
   "id": "32777762",
   "metadata": {},
   "source": [
    "Now, lets see ratings of the fisrt movie of our parse of data."
   ]
  },
  {
   "cell_type": "code",
   "execution_count": 23,
   "id": "c6f2227e",
   "metadata": {},
   "outputs": [
    {
     "name": "stdout",
     "output_type": "stream",
     "text": [
      "8.3/10\n"
     ]
    }
   ],
   "source": [
    "print(*links.get_imdb_rating([1]).values())"
   ]
  },
  {
   "cell_type": "markdown",
   "id": "a86fbaa2",
   "metadata": {},
   "source": [
    "## Ratings class\n",
    "\n",
    "Join ratings.csv and movies.csv for getting data. getting info about users and films.\n",
    "\n",
    "All ratings are contained in the file `ratings.csv`. Each line of this file after the header row represents one rating of one movie by one user, and has the following format:\n",
    "    userId,movieId,rating,timestamp\n",
    "\n",
    "Movie information is contained in the file `movies.csv`. Each line of this file after the header row represents one movie, and has the following format:\n",
    "\n",
    "    movieId,title,genres"
   ]
  },
  {
   "cell_type": "markdown",
   "id": "c0d6bf1d",
   "metadata": {},
   "source": [
    "import Ratings class from ratings.py and initialixing data sets movies and users_ratings.\n",
    "Ratings.Movies Inner Class\n",
    "\n",
    "__init__(self, parent)\n",
    "\n",
    "Initializes the Movies analysis class, using the parent Ratings instance."
   ]
  },
  {
   "cell_type": "code",
   "execution_count": 24,
   "id": "e3ac4c1c",
   "metadata": {},
   "outputs": [
    {
     "name": "stdout",
     "output_type": "stream",
     "text": [
      "14.5 ms ± 1.09 ms per loop (mean ± std. dev. of 7 runs, 100 loops each)\n",
      "267 ns ± 17.4 ns per loop (mean ± std. dev. of 7 runs, 1,000,000 loops each)\n",
      "381 ns ± 17.9 ns per loop (mean ± std. dev. of 7 runs, 1,000,000 loops each)\n"
     ]
    }
   ],
   "source": [
    "%timeit Ratings(\"../datasets/ratings.csv\", \"../datasets/movies.csv\")\n",
    "rating = Ratings(\"../datasets/ratings.csv\", \"../datasets/movies.csv\")\n",
    "%timeit  rating.Movies(rating)\n",
    "movies = rating.Movies(rating)\n",
    "%timeit rating.Users(rating)\n",
    "users_ratings = rating.Users(rating)"
   ]
  },
  {
   "cell_type": "markdown",
   "id": "2e411cbf",
   "metadata": {},
   "source": [
    "dist_by_year(self)\n",
    "Returns a dictionary where keys are years (extracted from rating timestamps) and values are counts of ratings per year.\n",
    "Sorted by year ascending."
   ]
  },
  {
   "cell_type": "code",
   "execution_count": 25,
   "id": "7ecdba6d",
   "metadata": {},
   "outputs": [
    {
     "name": "stdout",
     "output_type": "stream",
     "text": [
      "585 μs ± 29.9 μs per loop (mean ± std. dev. of 7 runs, 1,000 loops each)\n",
      "{1996: 358, 1999: 82, 2000: 296, 2001: 70, 2005: 121, 2006: 4, 2007: 1, 2011: 39, 2015: 29}\n"
     ]
    }
   ],
   "source": [
    "%timeit (movies.dist_by_year())\n",
    "print(movies.dist_by_year())"
   ]
  },
  {
   "cell_type": "markdown",
   "id": "eb26be38",
   "metadata": {},
   "source": [
    "dist_by_rating(self)\n",
    "Returns a dictionary where keys are rating values and values are counts of each rating.\n",
    "Sorted by rating ascending."
   ]
  },
  {
   "cell_type": "code",
   "execution_count": 26,
   "id": "eeee2e36",
   "metadata": {},
   "outputs": [
    {
     "name": "stdout",
     "output_type": "stream",
     "text": [
      "156 μs ± 6.75 μs per loop (mean ± std. dev. of 7 runs, 10,000 loops each)\n",
      "{0.5: 24, 1.0: 39, 1.5: 11, 2.0: 57, 2.5: 7, 3.0: 253, 3.5: 17, 4.0: 292, 4.5: 33, 5.0: 267}\n"
     ]
    }
   ],
   "source": [
    "%timeit movies.dist_by_rating()\n",
    "print(movies.dist_by_rating())"
   ]
  },
  {
   "cell_type": "markdown",
   "id": "5aa919e6",
   "metadata": {},
   "source": [
    "top_by_num_of_ratings(self, n)\n",
    "Returns the top-n movies by the number of ratings.\n",
    "Keys: movie titles\n",
    "Values: number of ratings\n",
    "Sorted by count descending."
   ]
  },
  {
   "cell_type": "code",
   "execution_count": 27,
   "id": "522a9c4d",
   "metadata": {},
   "outputs": [
    {
     "name": "stdout",
     "output_type": "stream",
     "text": [
      "240 μs ± 14 μs per loop (mean ± std. dev. of 7 runs, 1,000 loops each)\n",
      "{'Usual Suspects, The (1995)': 4, 'Pulp Fiction (1994)': 4, 'Fugitive, The (1993)': 4, \"Schindler's List (1993)\": 4, 'Batman (1989)': 4, 'Silence of the Lambs, The (1991)': 4, 'Fargo (1996)': 4, 'Aladdin (1992)': 4, 'Beauty and the Beast (1991)': 4, 'Toy Story (1995)': 3}\n"
     ]
    }
   ],
   "source": [
    "%timeit movies.top_by_num_of_ratings(10)\n",
    "print(movies.top_by_num_of_ratings(10))"
   ]
  },
  {
   "cell_type": "markdown",
   "id": "7bc98c08",
   "metadata": {},
   "source": [
    "top_by_ratings(self, n, metric='average')\n",
    "Returns the top-n movies by the average or median of their ratings.\n",
    "metric can be 'average' or 'median'\n",
    "Keys: movie titles\n",
    "Values: average or median rating (rounded to 2 decimals)\n",
    "Sorted by metric descending."
   ]
  },
  {
   "cell_type": "code",
   "execution_count": 28,
   "id": "60b57a10",
   "metadata": {},
   "outputs": [
    {
     "name": "stdout",
     "output_type": "stream",
     "text": [
      "1.22 ms ± 28.9 μs per loop (mean ± std. dev. of 7 runs, 1,000 loops each)\n",
      "{'Bottle Rocket (1996)': 5.0}\n"
     ]
    }
   ],
   "source": [
    "%timeit movies.top_by_ratings(1, 'median')\n",
    "print(movies.top_by_ratings(1, 'median'))"
   ]
  },
  {
   "cell_type": "markdown",
   "id": "d4b85606",
   "metadata": {},
   "source": [
    "top_controversial(self, n)\n",
    "Returns the top-n movies by the variance of their ratings.\n",
    "Keys: movie titles\n",
    "Values: variance (rounded to 2 decimals)\n",
    "Sorted by variance descending."
   ]
  },
  {
   "cell_type": "code",
   "execution_count": 29,
   "id": "8deb5c49",
   "metadata": {},
   "outputs": [
    {
     "name": "stdout",
     "output_type": "stream",
     "text": [
      "1.62 ms ± 148 μs per loop (mean ± std. dev. of 7 runs, 100 loops each)\n",
      "{'Bambi (1942)': 5.06}\n"
     ]
    }
   ],
   "source": [
    "%timeit movies.top_controversial(1)\n",
    "print(movies.top_controversial(1))"
   ]
  },
  {
   "cell_type": "markdown",
   "id": "41f2044e",
   "metadata": {},
   "source": [
    "most_active_user_by_coverage(self)\n",
    "Returns a tuple (userId, percent) for the user who rated the largest percentage of movies in the sample.\n",
    "percent is rounded to 2 decimals."
   ]
  },
  {
   "cell_type": "code",
   "execution_count": 30,
   "id": "9dd2398c",
   "metadata": {},
   "outputs": [
    {
     "name": "stdout",
     "output_type": "stream",
     "text": [
      "241 μs ± 12.8 μs per loop (mean ± std. dev. of 7 runs, 1,000 loops each)\n",
      "(6, 39.15)\n"
     ]
    }
   ],
   "source": [
    "%timeit movies.most_active_user_by_coverage()\n",
    "print(movies.most_active_user_by_coverage())"
   ]
  },
  {
   "cell_type": "code",
   "execution_count": 31,
   "id": "8c7c26dd",
   "metadata": {},
   "outputs": [
    {
     "name": "stdout",
     "output_type": "stream",
     "text": [
      "892 μs ± 52.7 μs per loop (mean ± std. dev. of 7 runs, 1,000 loops each)\n",
      "{'Bottle Rocket (1996)': 100.0}\n"
     ]
    }
   ],
   "source": [
    "%timeit movies.percent_of_max_ratings_per_movie(1)\n",
    "print(movies.percent_of_max_ratings_per_movie(1))"
   ]
  },
  {
   "cell_type": "markdown",
   "id": "20ec2099",
   "metadata": {},
   "source": [
    "users_distribution(self)\n",
    "Returns a dictionary where keys are user IDs and values are the number of ratings each user has given."
   ]
  },
  {
   "cell_type": "code",
   "execution_count": 32,
   "id": "f0d8308d",
   "metadata": {},
   "outputs": [
    {
     "name": "stdout",
     "output_type": "stream",
     "text": [
      "101 μs ± 2.84 μs per loop (mean ± std. dev. of 7 runs, 10,000 loops each)\n",
      "{1: 232, 2: 29, 3: 39, 4: 216, 5: 44, 6: 314, 7: 126}\n"
     ]
    }
   ],
   "source": [
    "%timeit users_ratings.users_distribution()\n",
    "print(users_ratings.users_distribution())"
   ]
  },
  {
   "cell_type": "markdown",
   "id": "cd46ea98",
   "metadata": {},
   "source": [
    "users_rating_distribution(self, metric='average')\n",
    "Returns a dictionary where keys are user IDs and values are the average or median of their ratings (rounded to 2 decimals).\n",
    "metric can be 'average' or 'median'."
   ]
  },
  {
   "cell_type": "code",
   "execution_count": 33,
   "id": "9248eec4",
   "metadata": {},
   "outputs": [
    {
     "name": "stdout",
     "output_type": "stream",
     "text": [
      "103 μs ± 3.84 μs per loop (mean ± std. dev. of 7 runs, 10,000 loops each)\n",
      "{1: 232, 2: 29, 3: 39, 4: 216, 5: 44, 6: 314, 7: 126}\n"
     ]
    }
   ],
   "source": [
    "%timeit users_ratings.users_distribution()\n",
    "print(users_ratings.users_distribution())"
   ]
  },
  {
   "cell_type": "markdown",
   "id": "e4415bb5",
   "metadata": {},
   "source": [
    "top_n_users_by_variance(self, n)\n",
    "Returns the top-n users by the variance of their ratings.\n",
    "Keys: user IDs\n",
    "Values: variance (rounded to 2 decimals)\n",
    "Sorted by variance descending."
   ]
  },
  {
   "cell_type": "code",
   "execution_count": 34,
   "id": "8014a496",
   "metadata": {},
   "outputs": [
    {
     "name": "stdout",
     "output_type": "stream",
     "text": [
      "141 μs ± 2.24 μs per loop (mean ± std. dev. of 7 runs, 10,000 loops each)\n",
      "{1: 4.37, 2: 3.95, 3: 2.44, 4: 3.56, 5: 3.64, 6: 3.49, 7: 3.35}\n"
     ]
    }
   ],
   "source": [
    "%timeit users_ratings.users_rating_distribution()\n",
    "print(users_ratings.users_rating_distribution())"
   ]
  },
  {
   "cell_type": "code",
   "execution_count": null,
   "id": "ada02d37",
   "metadata": {},
   "outputs": [],
   "source": []
  }
 ],
 "metadata": {
  "kernelspec": {
   "display_name": "base",
   "language": "python",
   "name": "python3"
  },
  "language_info": {
   "codemirror_mode": {
    "name": "ipython",
    "version": 3
   },
   "file_extension": ".py",
   "mimetype": "text/x-python",
   "name": "python",
   "nbconvert_exporter": "python",
   "pygments_lexer": "ipython3",
   "version": "3.12.7"
  }
 },
 "nbformat": 4,
 "nbformat_minor": 5
}
